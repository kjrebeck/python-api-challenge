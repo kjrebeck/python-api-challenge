{
 "cells": [
  {
   "cell_type": "code",
   "execution_count": 7,
   "id": "007baed1-c170-4c9e-b3d3-ad517abb5e99",
   "metadata": {},
   "outputs": [],
   "source": [
    "def double(x):\n",
    "    result = x * 2\n",
    "    return result"
   ]
  },
  {
   "cell_type": "code",
   "execution_count": 8,
   "id": "c394a537-8dac-4a05-a92f-7be444456654",
   "metadata": {},
   "outputs": [],
   "source": [
    "y = double(4)"
   ]
  },
  {
   "cell_type": "code",
   "execution_count": 9,
   "id": "9c2e90b6-366d-45eb-a8d1-603eac277e33",
   "metadata": {},
   "outputs": [
    {
     "name": "stdout",
     "output_type": "stream",
     "text": [
      "8\n"
     ]
    }
   ],
   "source": [
    "print(y)"
   ]
  },
  {
   "cell_type": "code",
   "execution_count": 11,
   "id": "8855b228-8e67-4719-a911-517752b29587",
   "metadata": {},
   "outputs": [],
   "source": [
    "funclist = [len, print, type, double] #7, \"katie\"]"
   ]
  },
  {
   "cell_type": "code",
   "execution_count": 20,
   "id": "8ca64fcf-14d2-4b12-b59d-7f6dd7d801ca",
   "metadata": {},
   "outputs": [
    {
     "name": "stdout",
     "output_type": "stream",
     "text": [
      "[<built-in function len>, <built-in function print>, <class 'type'>, <function double at 0x105da96c0>]\n"
     ]
    }
   ],
   "source": [
    "print(funclist)"
   ]
  },
  {
   "cell_type": "code",
   "execution_count": 21,
   "id": "b3efe382-0326-4a92-ad3f-c5fae25eed2f",
   "metadata": {},
   "outputs": [],
   "source": [
    "name = \"katie\""
   ]
  },
  {
   "cell_type": "code",
   "execution_count": 22,
   "id": "93685f08-6cda-4b3e-bcdf-97869d1dd92d",
   "metadata": {},
   "outputs": [],
   "source": [
    "namelist = [\"katie\", \"kourt\", \"brownie\"]"
   ]
  },
  {
   "cell_type": "code",
   "execution_count": 23,
   "id": "38a88d89-501a-4c3b-a94a-926dc3bf3351",
   "metadata": {},
   "outputs": [
    {
     "data": {
      "text/plain": [
       "'katie'"
      ]
     },
     "execution_count": 23,
     "metadata": {},
     "output_type": "execute_result"
    }
   ],
   "source": [
    "namelist[0]"
   ]
  },
  {
   "cell_type": "code",
   "execution_count": 16,
   "id": "9ad52e12-707e-418c-a326-d8de35d18bfa",
   "metadata": {},
   "outputs": [
    {
     "data": {
      "text/plain": [
       "'brownie'"
      ]
     },
     "execution_count": 16,
     "metadata": {},
     "output_type": "execute_result"
    }
   ],
   "source": [
    "namelist[2]"
   ]
  },
  {
   "cell_type": "code",
   "execution_count": 17,
   "id": "d6fa3b4b-823b-4c49-bce3-77eba849e62d",
   "metadata": {},
   "outputs": [
    {
     "data": {
      "text/plain": [
       "<function len(obj, /)>"
      ]
     },
     "execution_count": 17,
     "metadata": {},
     "output_type": "execute_result"
    }
   ],
   "source": [
    "funclist[0]"
   ]
  },
  {
   "cell_type": "code",
   "execution_count": 18,
   "id": "89c1bf59-6ac6-4532-ac27-3b81694541ec",
   "metadata": {},
   "outputs": [
    {
     "data": {
      "text/plain": [
       "5"
      ]
     },
     "execution_count": 18,
     "metadata": {},
     "output_type": "execute_result"
    }
   ],
   "source": [
    "funclist[0](name)"
   ]
  },
  {
   "cell_type": "code",
   "execution_count": 25,
   "id": "945c291d-6421-47a7-8c35-68c16744282c",
   "metadata": {
    "scrolled": true
   },
   "outputs": [
    {
     "name": "stdout",
     "output_type": "stream",
     "text": [
      "5\n",
      "katie\n",
      "None\n",
      "<class 'str'>\n",
      "katiekatie\n"
     ]
    }
   ],
   "source": [
    "for func in funclist:\n",
    "    print(func(name))"
   ]
  },
  {
   "cell_type": "code",
   "execution_count": null,
   "id": "0daf99d8-955b-469d-b1dd-b88c8c349a83",
   "metadata": {},
   "outputs": [],
   "source": []
  }
 ],
 "metadata": {
  "kernelspec": {
   "display_name": "orm",
   "language": "python",
   "name": "orm"
  },
  "language_info": {
   "codemirror_mode": {
    "name": "ipython",
    "version": 3
   },
   "file_extension": ".py",
   "mimetype": "text/x-python",
   "name": "python",
   "nbconvert_exporter": "python",
   "pygments_lexer": "ipython3",
   "version": "3.11.9"
  }
 },
 "nbformat": 4,
 "nbformat_minor": 5
}
